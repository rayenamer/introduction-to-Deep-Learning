{
 "cells": [
  {
   "cell_type": "markdown",
   "id": "3399b8df-38dc-4173-9e2d-f73f2af61cc3",
   "metadata": {},
   "source": [
    "<a href=\"https://cognitiveclass.ai\"><img src=\"https://cf-courses-data.s3.us.cloud-object-storage.appdomain.cloud/IBMDeveloperSkillsNetwork-DL0101EN-SkillsNetwork/images/IDSN-logo.png\" width=\"400\"> </a>\n",
    "\n",
    "# BackPropagation\n",
    "\n",
    "Estimated time needed: **30** mins\n"
   ]
  },
  {
   "cell_type": "markdown",
   "id": "771a8e8e-f90a-49ec-9383-446ab9034555",
   "metadata": {},
   "source": [
    "Backpropagation is the key algorithm used for training neural networks, allowing them to learn from data. It is based on the gradient descent optimization technique and works by iteratively adjusting the weights and biases of the network to minimize the error between the predicted and actual outputs.\n",
    " In this lab, we will create a neural network to implement backpropagation for a XOR problem.\n"
   ]
  },
  {
   "cell_type": "markdown",
   "id": "48ee916a-4f59-45c7-906e-d3ef096f5afe",
   "metadata": {},
   "source": [
    "# Objective for this notebook\n",
    "\n",
    "* Train a Neural Network to Solve the XOR Problem\n",
    "* Implement Backpropagation for Neural Network Training\n",
    "* Demonstrate the Use of Activation Functions\n",
    "* Understand the Learning Process Over Multiple Epochs\n",
    "* Demonstrate Weight and Bias Adjustments via Gradient Descent\n",
    "* Evaluate the Model's Performance After Training\n",
    "* Monitor and Analyze the Training Process\n"
   ]
  },
  {
   "cell_type": "markdown",
   "id": "6713223f-a423-4496-b0ea-09763a93b946",
   "metadata": {},
   "source": [
    "<h2>Table of Contents</h2>\n",
    "\n",
    "\n",
    "<div class=\"alert alert-block alert-info\" style=\"margin-top: 20px\">\n",
    "\n",
    "<font size = 4>\n",
    "1. <a href=\"#Import-Required-Libraries\">Import Required Libraries</a><br>\n",
    "2. <a href=\"#Initialize-Inputs\">Initialize Inputs</a><br>\n",
    "3. <a href=\"#Declare-the-network-parameters\">Declare the network parameters</a><br>\n",
    "4. <a href=\"#Define-the-weights\">Define the weights</a><br>  \n",
    "5. <a href=\"#Training-the-Neural-Network\">Training the Neural Network</a><br>  \n",
    "6. <a href=\"#Testing-the-Network\">Testing the Network</a><br>  \n",
    "7. <a href=\"#Plot-the-error\">Plot the error</a><br>  \n",
    "\n",
    "</font>\n",
    "</div>\n"
   ]
  },
  {
   "cell_type": "code",
   "execution_count": null,
   "id": "ab5ef59a-3409-411f-b77e-d57355bb305c",
   "metadata": {},
   "outputs": [],
   "source": [
    "# All Libraries required for this lab are listed below. The libraries pre-installed on Skills Network Labs are commented. \n",
    "# If you run this notebook on a different environment, e.g., your desktop, you may need to uncomment and install certain libraries.\n",
    "\n",
    "#!pip install numpy==1.26.4\n",
    "#!pip install matplotlib==3.5.2"
   ]
  },
  {
   "cell_type": "markdown",
   "id": "1923333c-9497-499f-894d-9832205fdad0",
   "metadata": {},
   "source": [
    "## Import Required Libraries\n"
   ]
  },
  {
   "cell_type": "code",
   "execution_count": 1,
   "id": "d1507ec8-a26e-4905-8134-d8dcda568cd9",
   "metadata": {},
   "outputs": [],
   "source": [
    "# Importing the required library\n",
    "import numpy as np\n",
    "import matplotlib.pyplot as plt"
   ]
  },
  {
   "cell_type": "markdown",
   "id": "0ce708ce-89a1-4967-9033-5fa4820c3ca6",
   "metadata": {},
   "source": [
    "## Initialize Inputs\n",
    "Define the input and expected output for a XOR gate problem\n"
   ]
  },
  {
   "cell_type": "code",
   "execution_count": 2,
   "id": "deef2454-7f80-46cb-ba52-e78dec31f33d",
   "metadata": {},
   "outputs": [],
   "source": [
    "# Defining inputs and expected output (XOR truth table)\n",
    "X = np.array([[0, 0], [0, 1], [1, 0], [1, 1]]).T  # 2x4 matrix, each column is a training example\n",
    "d = np.array([0, 1, 1, 0])  # Expected output for XOR"
   ]
  },
  {
   "cell_type": "markdown",
   "id": "fdd95307-bb1e-4f81-807c-e3cdf6ac0b8b",
   "metadata": {},
   "source": [
    "# Declare the network parameters\n",
    "\n",
    "Define the network parameters such as\n",
    "1. number of input neurons\n",
    "2. hidden layer neurons\n",
    "3. output neurons\n",
    "4. learning rate\n",
    "5. number of epochs\n"
   ]
  },
  {
   "cell_type": "code",
   "execution_count": 3,
   "id": "a33fca43-7772-4792-a63a-a5f374938124",
   "metadata": {},
   "outputs": [],
   "source": [
    "# Network parameters\n",
    "inputSize = 2     # Number of input neurons (x1, x2)\n",
    "hiddenSize = 2    # Number of hidden neurons\n",
    "outputSize = 1    # Number of output neurons\n",
    "lr = 0.1          # Learning rate\n",
    "epochs = 180000   # Number of training epochs"
   ]
  },
  {
   "cell_type": "markdown",
   "id": "d19ff0ff-119f-4990-9f06-7787ea5f3d11",
   "metadata": {},
   "source": [
    "## Define the weights\n",
    "Declare the weights for the neurons. The initial weights are taken as random numbers which are then optimized by the backpropagation algorithm\n"
   ]
  },
  {
   "cell_type": "code",
   "execution_count": 4,
   "id": "6148a2b1-cc3c-4205-b358-b940056b22f5",
   "metadata": {},
   "outputs": [],
   "source": [
    "# Initialize weights and biases randomly within the range [-1, 1]\n",
    "w1 = np.random.rand(hiddenSize, inputSize) * 2 - 1  # Weights from input to hidden layer\n",
    "b1 = np.random.rand(hiddenSize, 1) * 2 - 1         # Bias for hidden layer\n",
    "w2 = np.random.rand(outputSize, hiddenSize) * 2 - 1  # Weights from hidden to output layer\n",
    "b2 = np.random.rand(outputSize, 1) * 2 - 1         # Bias for output layer"
   ]
  },
  {
   "cell_type": "markdown",
   "id": "85253664-1db2-41d7-a6f6-c73c14357b69",
   "metadata": {},
   "source": [
    "## Training the Neural Network\n",
    "\n",
    "The neural network works in 5 stages: \n",
    "1. Forward pass\n",
    "    * The input **X** is multiplied by the weights **w1** and passed through the first layer, followed by the application of the sigmoid or ReLU activation function. This gives the output for the hidden layer.\n",
    "    * The output of the hidden layer is then passed through the second set of weights **w2** to compute the final output. Again, a sigmoid activation function is used to generate the final output **a2**.\n",
    "    \n",
    "2. Error calculation\n",
    "    * The error is computed as the difference between the expected output **(d)** and the actual output **(a2)**.\n",
    "3. Backward pass\n",
    "    * **Output Layer**: The derivative of the sigmoid activation function is applied to the error, producing the gradient for the output layer **(da2)**. This is used to calculate how much the weights in the output layer need to be adjusted.\n",
    "    * **Hidden Layer**: The error is then propagated backward to the hidden layer. The gradient at the hidden layer **(da1)** is computed by taking the dot product of the transpose of the weights **(w2.T)** and the gradient from the output layer. The derivative of the activation function (sigmoid or ReLU) is used to adjust this error.\n",
    "4. Weights and bias updates\n",
    "    * After computing the **gradients (dz1, dz2)**, the **weights (w1, w2)** and **biases (b1, b2)** are updated using the **learning rate (lr)** and **the gradients**. The updates are done to minimize the error and improve the model’s predictions.\n",
    "5. Training:\n",
    "    * This entire process is repeated over many iterations **(epochs)**. During each epoch, the model adjusts its weights and biases to reduce the error. Over time, the network learns to approximate the XOR function.\n",
    "Forward Pass:\n",
    "\n"
   ]
  },
  {
   "cell_type": "code",
   "execution_count": 5,
   "id": "27dc14be-2148-4079-b5dc-75b1964620c3",
   "metadata": {},
   "outputs": [
    {
     "name": "stdout",
     "output_type": "stream",
     "text": [
      "Epoch: 9999, Average error: 0.29525\n",
      "Epoch: 19999, Average error: 0.26816\n",
      "Epoch: 29999, Average error: 0.26280\n",
      "Epoch: 39999, Average error: 0.26031\n",
      "Epoch: 49999, Average error: 0.25883\n",
      "Epoch: 59999, Average error: 0.25782\n",
      "Epoch: 69999, Average error: 0.25707\n",
      "Epoch: 79999, Average error: 0.25650\n",
      "Epoch: 89999, Average error: 0.25604\n",
      "Epoch: 99999, Average error: 0.25567\n",
      "Epoch: 109999, Average error: 0.25535\n",
      "Epoch: 119999, Average error: 0.25508\n",
      "Epoch: 129999, Average error: 0.25484\n",
      "Epoch: 139999, Average error: 0.25463\n",
      "Epoch: 149999, Average error: 0.25445\n",
      "Epoch: 159999, Average error: 0.25429\n",
      "Epoch: 169999, Average error: 0.25414\n",
      "Epoch: 179999, Average error: 0.25400\n"
     ]
    }
   ],
   "source": [
    "# Training the network using backpropagation\n",
    "error_list = []\n",
    "for epoch in range(epochs):\n",
    "    # Forward pass\n",
    "    z1 = np.dot(w1, X) + b1  # Weighted sum for hidden layer\n",
    "    a1 = 1 / (1 + np.exp(-z1))  # Sigmoid activation for hidden layer\n",
    "\n",
    "    z2 = np.dot(w2, a1) + b2  # Weighted sum for output layer\n",
    "    a2 = 1 / (1 + np.exp(-z2))  # Sigmoid activation for output layer\n",
    "\n",
    "    # Error calculation and backpropagation\n",
    "    error = d - a2  # Difference between expected and actual output\n",
    "    da2 = error * (a2 * (1 - a2))  # Derivative for output layer\n",
    "    dz2 = da2  # Gradient for output layer\n",
    "\n",
    "    # Propagate error to hidden layer\n",
    "    da1 = np.dot(w2.T, dz2)  # Gradient for hidden layer\n",
    "    dz1 = da1 * (a1 * (1 - a1))  # Derivative for hidden layer\n",
    "\n",
    "    # Update weights and biases\n",
    "    w2 += lr * np.dot(dz2, a1.T)  # Update weights from hidden to output layer\n",
    "    b2 += lr * np.sum(dz2, axis=1, keepdims=True)  # Update bias for output layer\n",
    "\n",
    "    w1 += lr * np.dot(dz1, X.T)  # Update weights from input to hidden layer\n",
    "    b1 += lr * np.sum(dz1, axis=1, keepdims=True)  # Update bias for hidden layer\n",
    "    if (epoch+1)%10000 == 0:\n",
    "        print(\"Epoch: %d, Average error: %0.05f\"%(epoch, np.average(abs(error))))\n",
    "        error_list.append(np.average(abs(error)))"
   ]
  },
  {
   "cell_type": "markdown",
   "id": "36932dac-e66d-4f9d-bc4f-2eb5f33af367",
   "metadata": {},
   "source": [
    "## Testing the Network\n",
    "After training, you can now test the neural network to verify that it has learned the XOR function and outputs the correct values close to [0, 1, 1, 0]\n"
   ]
  },
  {
   "cell_type": "code",
   "execution_count": 6,
   "id": "c4f6d5e3-8cf7-4324-b1ce-2f7bc81c4195",
   "metadata": {},
   "outputs": [
    {
     "name": "stdout",
     "output_type": "stream",
     "text": [
      "Final output after training: [[0.00731027 0.49989924 0.99156323 0.50017094]]\n",
      "Ground truth [0 1 1 0]\n",
      "Error after training: [[-0.00731029  0.50010076  0.0084368  -0.50017094]]\n",
      "Average error: 0.25400\n"
     ]
    }
   ],
   "source": [
    "# Testing the trained network\n",
    "z1 = np.dot(w1, X) + b1  # Weighted sum for hidden layer\n",
    "a1 = 1 / (1 + np.exp(-z1))  # Sigmoid activation for hidden layer\n",
    "\n",
    "z2 = np.dot(w2, a1) + b2  # Weighted sum for output layer\n",
    "a2 = 1 / (1 + np.exp(-z2))  # Sigmoid activation for output layer\n",
    "\n",
    "# Print results\n",
    "print('Final output after training:', a2)\n",
    "print('Ground truth', d)\n",
    "print('Error after training:', error)\n",
    "print('Average error: %0.05f'%np.average(abs(error)))\n",
    "\n"
   ]
  },
  {
   "cell_type": "markdown",
   "id": "22ffd6cd-c373-4192-b9ec-d588ee83694b",
   "metadata": {},
   "source": [
    "## Plot the error\n",
    "Here, we plot the error as a function of epochs. This shows how error changed over multiple iterations of forward and backward passes and how the network learnt over time\n"
   ]
  },
  {
   "cell_type": "code",
   "execution_count": 7,
   "id": "fa30c9b8-b0d9-4088-83ba-3d3e0b5f60e7",
   "metadata": {},
   "outputs": [
    {
     "data": {
      "image/png": "[encoded data removed]",
      "text/plain": [
       "<Figure size 640x480 with 1 Axes>"
      ]
     },
     "metadata": {},
     "output_type": "display_data"
    }
   ],
   "source": [
    "# Plot error\n",
    "plt.plot(error_list)\n",
    "plt.title('Error')\n",
    "plt.xlabel('Epochs')\n",
    "plt.ylabel('Error')\n",
    "plt.show()"
   ]
  },
  {
   "cell_type": "markdown",
   "id": "b83b0202-3e3f-46ae-9dbc-92b9a09c4ffb",
   "metadata": {},
   "source": [
    "# Practice exercise 1\n"
   ]
  },
  {
   "cell_type": "markdown",
   "id": "c6fc2fbb-2cb0-49af-aec4-357383f0730f",
   "metadata": {},
   "source": [
    "Implement backpropagation for **AND problem** using similar input as used for XOR problem above and plot the error\n"
   ]
  },
  {
   "cell_type": "code",
   "execution_count": 8,
   "id": "a873a7e7-9033-43cb-8308-ed1c59c70c84",
   "metadata": {},
   "outputs": [
    {
     "name": "stdout",
     "output_type": "stream",
     "text": [
      "Epoch: 9999, Average error: 0.19122\n",
      "Epoch: 19999, Average error: 0.01702\n",
      "Epoch: 29999, Average error: 0.01348\n",
      "Epoch: 39999, Average error: 0.01164\n",
      "Epoch: 49999, Average error: 0.01042\n",
      "Epoch: 59999, Average error: 0.00954\n",
      "Epoch: 69999, Average error: 0.00885\n",
      "Epoch: 79999, Average error: 0.00830\n",
      "Epoch: 89999, Average error: 0.00784\n",
      "Epoch: 99999, Average error: 0.00745\n",
      "Epoch: 109999, Average error: 0.00712\n",
      "Epoch: 119999, Average error: 0.00682\n",
      "Epoch: 129999, Average error: 0.00656\n",
      "Epoch: 139999, Average error: 0.00633\n",
      "Epoch: 149999, Average error: 0.00612\n",
      "Epoch: 159999, Average error: 0.00593\n",
      "Epoch: 169999, Average error: 0.00576\n",
      "Epoch: 179999, Average error: 0.00560\n",
      "\n",
      "Final output after training: [[0.00225039 0.00571491 0.00496317 0.99053195]]\n",
      "Ground truth [0 0 0 1]\n",
      "Error after training: [[-0.0022504  -0.00571493 -0.00496319  0.00946808]]\n",
      "Average error: 0.00560\n"
     ]
    },
    {
     "data": {
      "image/png": "[encoded data removed]",
      "text/plain": [
       "<Figure size 640x480 with 1 Axes>"
      ]
     },
     "metadata": {},
     "output_type": "display_data"
    }
   ],
   "source": [
    "X = np.array([[0, 0], [0, 1], [1, 0], [1, 1]]).T  # 2x4 matrix, each column is a training example\n",
    "d = np.array([0, 0, 0, 1])  # Expected output for AND\n",
    "\n",
    "# Training the network using backpropagation\n",
    "error_list = []\n",
    "for epoch in range(epochs):\n",
    "    # Forward pass\n",
    "    z1 = np.dot(w1, X) + b1  # Weighted sum for hidden layer\n",
    "    a1 = 1 / (1 + np.exp(-z1))  # Sigmoid activation for hidden layer\n",
    "\n",
    "    z2 = np.dot(w2, a1) + b2  # Weighted sum for output layer\n",
    "    a2 = 1 / (1 + np.exp(-z2))  # Sigmoid activation for output layer\n",
    "\n",
    "    # Error calculation and backpropagation\n",
    "    error = d - a2  # Difference between expected and actual output\n",
    "    da2 = error * (a2 * (1 - a2))  # Derivative for output layer\n",
    "    dz2 = da2  # Gradient for output layer\n",
    "\n",
    "    # Propagate error to hidden layer\n",
    "    da1 = np.dot(w2.T, dz2)  # Gradient for hidden layer\n",
    "    dz1 = da1 * (a1 * (1 - a1))  # Derivative for hidden layer\n",
    "\n",
    "    # Update weights and biases\n",
    "    w2 += lr * np.dot(dz2, a1.T)  # Update weights from hidden to output layer\n",
    "    b2 += lr * np.sum(dz2, axis=1, keepdims=True)  # Update bias for output layer\n",
    "\n",
    "    w1 += lr * np.dot(dz1, X.T)  # Update weights from input to hidden layer\n",
    "    b1 += lr * np.sum(dz1, axis=1, keepdims=True)  # Update bias for hidden layer\n",
    "    if (epoch+1)%10000 == 0:\n",
    "        print(\"Epoch: %d, Average error: %0.05f\"%(epoch, np.average(abs(error))))\n",
    "        error_list.append(np.average(abs(error)))\n",
    "\n",
    "\n",
    "# Testing the trained network\n",
    "z1 = np.dot(w1, X) + b1  # Weighted sum for hidden layer\n",
    "a1 = 1 / (1 + np.exp(-z1))  # Sigmoid activation for hidden layer\n",
    "\n",
    "z2 = np.dot(w2, a1) + b2  # Weighted sum for output layer\n",
    "a2 = 1 / (1 + np.exp(-z2))  # Sigmoid activation for output layer\n",
    "\n",
    "# Print results\n",
    "print('\\nFinal output after training:', a2)\n",
    "print('Ground truth', d)\n",
    "print('Error after training:', error)\n",
    "print('Average error: %0.05f'%np.average(abs(error)))\n",
    "\n",
    "# Plot error\n",
    "plt.plot(error_list)\n",
    "plt.title('Error')\n",
    "plt.xlabel('Epochs')\n",
    "plt.ylabel('Error')\n",
    "plt.show()"
   ]
  },
  {
   "cell_type": "markdown",
   "id": "967ae9be-ecdb-4952-b0b2-740d2204412c",
   "metadata": {},
   "source": [
    "Double-click <b>here</b> for the solution.\n",
    "\n",
    "<!-- Your answer is below:\n",
    "\n",
    "\n",
    "X = np.array([[0, 0], [0, 1], [1, 0], [1, 1]]).T  # 2x4 matrix, each column is a training example\n",
    "d = np.array([0, 0, 0, 1])  # Expected output for AND\n",
    "\n",
    "# Training the network using backpropagation\n",
    "error_list = []\n",
    "for epoch in range(epochs):\n",
    "    # Forward pass\n",
    "    z1 = np.dot(w1, X) + b1  # Weighted sum for hidden layer\n",
    "    a1 = 1 / (1 + np.exp(-z1))  # Sigmoid activation for hidden layer\n",
    "\n",
    "    z2 = np.dot(w2, a1) + b2  # Weighted sum for output layer\n",
    "    a2 = 1 / (1 + np.exp(-z2))  # Sigmoid activation for output layer\n",
    "\n",
    "    # Error calculation and backpropagation\n",
    "    error = d - a2  # Difference between expected and actual output\n",
    "    da2 = error * (a2 * (1 - a2))  # Derivative for output layer\n",
    "    dz2 = da2  # Gradient for output layer\n",
    "\n",
    "    # Propagate error to hidden layer\n",
    "    da1 = np.dot(w2.T, dz2)  # Gradient for hidden layer\n",
    "    dz1 = da1 * (a1 * (1 - a1))  # Derivative for hidden layer\n",
    "\n",
    "    # Update weights and biases\n",
    "    w2 += lr * np.dot(dz2, a1.T)  # Update weights from hidden to output layer\n",
    "    b2 += lr * np.sum(dz2, axis=1, keepdims=True)  # Update bias for output layer\n",
    "\n",
    "    w1 += lr * np.dot(dz1, X.T)  # Update weights from input to hidden layer\n",
    "    b1 += lr * np.sum(dz1, axis=1, keepdims=True)  # Update bias for hidden layer\n",
    "    if (epoch+1)%10000 == 0:\n",
    "        print(\"Epoch: %d, Average error: %0.05f\"%(epoch, np.average(abs(error))))\n",
    "        error_list.append(np.average(abs(error)))\n",
    "\n",
    "\n",
    "# Testing the trained network\n",
    "z1 = np.dot(w1, X) + b1  # Weighted sum for hidden layer\n",
    "a1 = 1 / (1 + np.exp(-z1))  # Sigmoid activation for hidden layer\n",
    "\n",
    "z2 = np.dot(w2, a1) + b2  # Weighted sum for output layer\n",
    "a2 = 1 / (1 + np.exp(-z2))  # Sigmoid activation for output layer\n",
    "\n",
    "# Print results\n",
    "print('\\nFinal output after training:', a2)\n",
    "print('Ground truth', d)\n",
    "print('Error after training:', error)\n",
    "print('Average error: %0.05f'%np.average(abs(error)))\n",
    "\n",
    "# Plot error\n",
    "plt.plot(error_list)\n",
    "plt.title('Error')\n",
    "plt.xlabel('Epochs')\n",
    "plt.ylabel('Error')\n",
    "plt.show()\n",
    "\n",
    "\n",
    "-->\n"
   ]
  },
  {
   "cell_type": "markdown",
   "id": "68c7a63b-757a-4bf2-823d-410d78df51a1",
   "metadata": {},
   "source": [
    "# Practice exercise 2\n"
   ]
  },
  {
   "cell_type": "markdown",
   "id": "0b339719-2453-412f-bac7-04c1567968ec",
   "metadata": {},
   "source": [
    "Now, decrease the learning rate to 0.01 and increase the number of epochs to 1000000 and check the error for XOR gate\n"
   ]
  },
  {
   "cell_type": "code",
   "execution_count": null,
   "id": "4fd9a48c-507a-4068-b134-861ac246ca42",
   "metadata": {},
   "outputs": [],
   "source": [
    "lr = 0.01         # Learning rate\n",
    "epochs = 1000000   # Number of training epochs\n",
    "\n",
    "\n",
    "# Defining inputs and expected output (XOR truth table)\n",
    "X = np.array([[0, 0], [0, 1], [1, 0], [1, 1]]).T  # 2x4 matrix, each column is a training example\n",
    "d = np.array([0, 1, 1, 0])  # Expected output for XOR\n",
    "\n",
    "\n",
    "# Training the network using backpropagation\n",
    "error_list = []\n",
    "for epoch in range(epochs):\n",
    "    # Forward pass\n",
    "    z1 = np.dot(w1, X) + b1  # Weighted sum for hidden layer\n",
    "    a1 = 1 / (1 + np.exp(-z1))  # Sigmoid activation for hidden layer\n",
    "\n",
    "    z2 = np.dot(w2, a1) + b2  # Weighted sum for output layer\n",
    "    a2 = 1 / (1 + np.exp(-z2))  # Sigmoid activation for output layer\n",
    "\n",
    "    # Error calculation and backpropagation\n",
    "    error = d - a2  # Difference between expected and actual output\n",
    "    da2 = error * (a2 * (1 - a2))  # Derivative for output layer\n",
    "    dz2 = da2  # Gradient for output layer\n",
    "\n",
    "    # Propagate error to hidden layer\n",
    "    da1 = np.dot(w2.T, dz2)  # Gradient for hidden layer\n",
    "    dz1 = da1 * (a1 * (1 - a1))  # Derivative for hidden layer\n",
    "\n",
    "    # Update weights and biases\n",
    "    w2 += lr * np.dot(dz2, a1.T)  # Update weights from hidden to output layer\n",
    "    b2 += lr * np.sum(dz2, axis=1, keepdims=True)  # Update bias for output layer\n",
    "\n",
    "    w1 += lr * np.dot(dz1, X.T)  # Update weights from input to hidden layer\n",
    "    b1 += lr * np.sum(dz1, axis=1, keepdims=True)  # Update bias for hidden layer\n",
    "    if (epoch+1)%10000 == 0:\n",
    "        print(\"Epoch: %d, Average error: %0.05f\"%(epoch, np.average(abs(error))))\n",
    "        error_list.append(np.average(abs(error)))\n",
    "\n",
    "\n",
    "# Testing the trained network\n",
    "z1 = np.dot(w1, X) + b1  # Weighted sum for hidden layer\n",
    "a1 = 1 / (1 + np.exp(-z1))  # Sigmoid activation for hidden layer\n",
    "\n",
    "z2 = np.dot(w2, a1) + b2  # Weighted sum for output layer\n",
    "a2 = 1 / (1 + np.exp(-z2))  # Sigmoid activation for output layer\n",
    "\n",
    "# Print results\n",
    "print('\\nFinal output after training:', a2)\n",
    "print('Ground truth', d)\n",
    "print('Error after training:', error)\n",
    "print('Average error: %0.05f'%np.average(abs(error)))\n",
    "\n",
    "\n",
    "# Plot error\n",
    "plt.plot(error_list)\n",
    "plt.title('Error')\n",
    "plt.xlabel('Epochs')\n",
    "plt.ylabel('Error')\n",
    "plt.show()"
   ]
  },
  {
   "cell_type": "markdown",
   "id": "486fc03c-783d-4aa6-b3dc-39deced5db99",
   "metadata": {},
   "source": [
    "## Thank you for completing this lab!\n",
    "\n",
    "This notebook was created by [Aman Aggarwal](https://www.linkedin.com/in/aggarwal-aman/). I hope you found this lab interesting and educational. Feel free to contact me if you have any questions!\n"
   ]
  },
  {
   "cell_type": "markdown",
   "id": "ae65365e-a9c9-47d2-8028-084cf57b024f",
   "metadata": {},
   "source": [
    "\n",
    "<!--\n",
    "## Change Log\n",
    "\n",
    "|  Date (YYYY-MM-DD) |  Version | Changed By  |  Change Description |\n",
    "|---|---|---|---|\n",
    "| 2024-11-20  | 1.0  | Aman  |  Created the lab |\n",
    "<hr>\n",
    "\n",
    "## <h3 align=\"center\"> © IBM Corporation. All rights reserved. <h3/>\n"
   ]
  },
  {
   "cell_type": "markdown",
   "id": "326e9686-7ff3-4c10-9cb0-9887dfec2451",
   "metadata": {},
   "source": [
    "## <h3 align=\"center\"> &#169; IBM Corporation. All rights reserved. <h3/>\n"
   ]
  }
 ],
 "metadata": {
  "kernelspec": {
   "display_name": "Python 3",
   "language": "python",
   "name": "python3"
  },
  "language_info": {
   "codemirror_mode": {
    "name": "ipython",
    "version": 3
   },
   "file_extension": ".py",
   "mimetype": "text/x-python",
   "name": "python",
   "nbconvert_exporter": "python",
   "pygments_lexer": "ipython3",
   "version": "3.12.6"
  },
  "prev_pub_hash": "947a6ec452597a91eaa4fa6ece0a600859c0684a4192c56e37ddb58e207db692"
 },
 "nbformat": 4,
 "nbformat_minor": 4
}
