{
 "cells": [
  {
   "cell_type": "markdown",
   "id": "6a259076-5a31-482e-b598-0138c6bfe11a",
   "metadata": {},
   "source": [
    "<a href=\"https://cognitiveclass.ai\"><img src=\"https://cf-courses-data.s3.us.cloud-object-storage.appdomain.cloud/IBMDeveloperSkillsNetwork-DL0101EN-SkillsNetwork/images/IDSN-logo.png\" width=\"400\"> </a>\n",
    "\n",
    "# Convolutional Neural Networks with Keras\n",
    "\n",
    "Estimated time needed **30** mins\n"
   ]
  },
  {
   "cell_type": "markdown",
   "id": "2a86cd7f-c191-4c78-92a5-2479b13cba2b",
   "metadata": {},
   "source": [
    "In this lab, we will learn how to use the Keras library to build convolutional neural networks. We will also use the popular MNIST dataset and we will compare our results to using a conventional neural network.\n"
   ]
  },
  {
   "cell_type": "markdown",
   "id": "a7c948e3-995c-45c0-86f0-8916fbee6b02",
   "metadata": {},
   "source": [
    "## Objectives for this Notebook    \n",
    "* How to use the Keras library to build convolutional neural networks\n",
    "* Convolutional neural network with one set of convolutional and pooling layers\n",
    "* Convolutional neural network with two sets of convolutional and pooling layers\n",
    "\n"
   ]
  },
  {
   "cell_type": "markdown",
   "id": "82e267c1-74e4-4f30-be50-15b58d592add",
   "metadata": {},
   "source": [
    "## Table of Contents\n",
    "\n",
    "<div class=\"alert alert-block alert-info\" style=\"margin-top: 20px\">\n",
    "\n",
    "<font size = 3>\n",
    "      \n",
    "1. <a href=\"#Import-Keras-and-Packages\">Import Keras and Packages</a>   \n",
    "2. <a href=\"#Convolutional-Neural-Network-with-One-Set-of-Convolutional-and-Pooling-Layers\">Convolutional Neural Network with One Set of Convolutional and Pooling Layers</a>  \n",
    "3. <a href=\"#Convolutional-Neural-Network-with-Two-Sets-of-Convolutional-and-Pooling-Layers\">Convolutional Neural Network with Two Sets of Convolutional and Pooling Layers</a>  \n",
    "\n",
    "</font>\n",
    "</div>\n"
   ]
  },
  {
   "cell_type": "markdown",
   "id": "a2725718-c839-403f-8017-236d760c20c0",
   "metadata": {},
   "source": [
    "### Install the necessary libraries\n"
   ]
  },
  {
   "cell_type": "markdown",
   "id": "5860a2ee-ec49-4add-ad79-556d6960495a",
   "metadata": {},
   "source": [
    "Let's start by installing the keras libraries and the packages that we would need to build a neural network.\n"
   ]
  },
  {
   "cell_type": "code",
   "execution_count": null,
   "id": "dc5e450c-e81e-42b1-a564-7d59bd960067",
   "metadata": {},
   "outputs": [],
   "source": [
    "# All Libraries required for this lab are listed below. The libraries need to be installed on Skills Network Labs. \n",
    "# If you run this notebook on a different environment, e.g. your desktop, you may want to install these.\n",
    "!pip install numpy==2.0.2\n",
    "!pip install pandas==2.2.2\n",
    "!pip install tensorflow_cpu==2.18.0\n",
    "!pip install matplotlib==3.9.2"
   ]
  },
  {
   "cell_type": "markdown",
   "id": "df48ab35-3ce3-4d73-9e9f-142c1c272773",
   "metadata": {},
   "source": [
    "#### Suppress the tensorflow warning messages\n",
    "We use the following code to  suppress the warning messages due to use of CPU architechture for tensoflow.\n",
    "You may want to **comment out** these lines if you are using the GPU architechture\n"
   ]
  },
  {
   "cell_type": "code",
   "execution_count": 3,
   "id": "c4d79a7c-6cbc-4b7c-8f6e-23c4d3dbec4f",
   "metadata": {},
   "outputs": [],
   "source": [
    "import os\n",
    "os.environ['TF_ENABLE_ONEDNN_OPTS'] = '0'\n",
    "os.environ['TF_CPP_MIN_LOG_LEVEL'] = '2'"
   ]
  },
  {
   "cell_type": "markdown",
   "id": "c8cb5959-7529-4024-aabe-711e02b1a573",
   "metadata": {},
   "source": [
    "## Import Keras and Packages\n"
   ]
  },
  {
   "cell_type": "code",
   "execution_count": 4,
   "id": "54f7f5de-dd4f-4160-97a7-41fc13358596",
   "metadata": {},
   "outputs": [],
   "source": [
    "import keras\n",
    "from keras.models import Sequential\n",
    "from keras.layers import Dense\n",
    "from keras.layers import Input\n",
    "from keras.utils import to_categorical"
   ]
  },
  {
   "cell_type": "markdown",
   "id": "6ae6ee1f-c5f9-4136-a661-d0ecad7bc618",
   "metadata": {},
   "source": [
    "When working with convolutional neural networks in particular, we will need additional packages.\n"
   ]
  },
  {
   "cell_type": "code",
   "execution_count": 5,
   "id": "59965020-f741-41d0-8b70-00253641ff4c",
   "metadata": {},
   "outputs": [],
   "source": [
    "from keras.layers import Conv2D # to add convolutional layers\n",
    "from keras.layers import MaxPooling2D # to add pooling layers\n",
    "from keras.layers import Flatten # to flatten data for fully connected layers"
   ]
  },
  {
   "cell_type": "markdown",
   "id": "b4be0cd5-9e2a-44f7-a6de-1fdc46923fb4",
   "metadata": {},
   "source": [
    "## Convolutional Neural Network with One Set of Convolutional and Pooling Layers\n"
   ]
  },
  {
   "cell_type": "code",
   "execution_count": 6,
   "id": "21cd5320-20a6-4e90-89be-81af7990a4c5",
   "metadata": {},
   "outputs": [],
   "source": [
    "# import data\n",
    "from keras.datasets import mnist\n",
    "\n",
    "# load data\n",
    "(X_train, y_train), (X_test, y_test) = mnist.load_data()\n",
    "\n",
    "# reshape to be [samples][pixels][width][height]\n",
    "X_train = X_train.reshape(X_train.shape[0], 28, 28, 1).astype('float32')\n",
    "X_test = X_test.reshape(X_test.shape[0], 28, 28, 1).astype('float32')"
   ]
  },
  {
   "cell_type": "markdown",
   "id": "82a804cb-2ea6-4925-94a1-ef4ba5a2ef1d",
   "metadata": {},
   "source": [
    "Let's normalize the pixel values to be between 0 and 1\n"
   ]
  },
  {
   "cell_type": "code",
   "execution_count": 7,
   "id": "26b2fc47-fbfb-42ce-bfe7-d1cda99d4988",
   "metadata": {},
   "outputs": [],
   "source": [
    "X_train = X_train / 255 # normalize training data\n",
    "X_test = X_test / 255 # normalize test data"
   ]
  },
  {
   "cell_type": "markdown",
   "id": "58622fd9-b0ff-408c-baf5-4db94f8a0a97",
   "metadata": {},
   "source": [
    "Next, let's convert the target variable into binary categories\n"
   ]
  },
  {
   "cell_type": "code",
   "execution_count": 8,
   "id": "c01c40ef-75ba-4c87-954a-4f5ecef7b41f",
   "metadata": {},
   "outputs": [],
   "source": [
    "y_train = to_categorical(y_train)\n",
    "y_test = to_categorical(y_test)\n",
    "\n",
    "num_classes = y_test.shape[1] # number of categories"
   ]
  },
  {
   "cell_type": "markdown",
   "id": "2c42c05a-ae9e-44bc-ab58-5b5c55c6cc43",
   "metadata": {},
   "source": [
    "Next, let's define a function that creates our model. Let's start with one set of convolutional and pooling layers.\n"
   ]
  },
  {
   "cell_type": "code",
   "execution_count": 9,
   "id": "678716df-28c6-4944-872b-2ab253d7ea68",
   "metadata": {},
   "outputs": [],
   "source": [
    "def convolutional_model():\n",
    "    \n",
    "    # create model\n",
    "    model = Sequential()\n",
    "    model.add(Input(shape=(28, 28, 1)))\n",
    "    model.add(Conv2D(16, (5, 5), strides=(1, 1), activation='relu'))\n",
    "    model.add(MaxPooling2D(pool_size=(2, 2), strides=(2, 2)))\n",
    "    \n",
    "    model.add(Flatten())\n",
    "    model.add(Dense(100, activation='relu'))\n",
    "    model.add(Dense(num_classes, activation='softmax'))\n",
    "    \n",
    "    # compile model\n",
    "    model.compile(optimizer='adam', loss='categorical_crossentropy',  metrics=['accuracy'])\n",
    "    return model"
   ]
  },
  {
   "cell_type": "markdown",
   "id": "d94c41fa-0fae-482c-b4f5-0729d31569c2",
   "metadata": {},
   "source": [
    "Finally, let's call the function to create the model, and then let's train it and evaluate it.\n"
   ]
  },
  {
   "cell_type": "code",
   "execution_count": 10,
   "id": "095aa859-c641-4d6d-abb6-a1712a64f89b",
   "metadata": {},
   "outputs": [
    {
     "name": "stdout",
     "output_type": "stream",
     "text": [
      "Epoch 1/10\n",
      "300/300 - 13s - 42ms/step - accuracy: 0.9154 - loss: 0.2957 - val_accuracy: 0.9674 - val_loss: 0.1108\n",
      "Epoch 2/10\n",
      "300/300 - 10s - 33ms/step - accuracy: 0.9739 - loss: 0.0900 - val_accuracy: 0.9759 - val_loss: 0.0775\n",
      "Epoch 3/10\n",
      "300/300 - 15s - 51ms/step - accuracy: 0.9829 - loss: 0.0584 - val_accuracy: 0.9807 - val_loss: 0.0574\n",
      "Epoch 4/10\n",
      "300/300 - 14s - 48ms/step - accuracy: 0.9866 - loss: 0.0442 - val_accuracy: 0.9842 - val_loss: 0.0481\n",
      "Epoch 5/10\n",
      "300/300 - 10s - 32ms/step - accuracy: 0.9888 - loss: 0.0367 - val_accuracy: 0.9834 - val_loss: 0.0476\n",
      "Epoch 6/10\n",
      "300/300 - 10s - 32ms/step - accuracy: 0.9907 - loss: 0.0301 - val_accuracy: 0.9857 - val_loss: 0.0406\n",
      "Epoch 7/10\n",
      "300/300 - 11s - 38ms/step - accuracy: 0.9925 - loss: 0.0251 - val_accuracy: 0.9877 - val_loss: 0.0381\n",
      "Epoch 8/10\n",
      "300/300 - 10s - 35ms/step - accuracy: 0.9941 - loss: 0.0196 - val_accuracy: 0.9857 - val_loss: 0.0436\n",
      "Epoch 9/10\n",
      "300/300 - 10s - 33ms/step - accuracy: 0.9952 - loss: 0.0165 - val_accuracy: 0.9865 - val_loss: 0.0420\n",
      "Epoch 10/10\n",
      "300/300 - 11s - 36ms/step - accuracy: 0.9958 - loss: 0.0142 - val_accuracy: 0.9867 - val_loss: 0.0387\n",
      "Accuracy: 0.9866999983787537 \n",
      " Error: 1.3300001621246338\n"
     ]
    }
   ],
   "source": [
    "# build the model\n",
    "model = convolutional_model()\n",
    "\n",
    "# fit the model\n",
    "model.fit(X_train, y_train, validation_data=(X_test, y_test), epochs=10, batch_size=200, verbose=2)\n",
    "\n",
    "# evaluate the model\n",
    "scores = model.evaluate(X_test, y_test, verbose=0)\n",
    "print(\"Accuracy: {} \\n Error: {}\".format(scores[1], 100-scores[1]*100))"
   ]
  },
  {
   "cell_type": "markdown",
   "id": "bdadb672-3dd5-47c8-b2aa-b573faec12ab",
   "metadata": {},
   "source": [
    "------------------------------------------\n"
   ]
  },
  {
   "cell_type": "markdown",
   "id": "8346bc8d-b06d-4e59-ab6d-38ab51f7e3a2",
   "metadata": {},
   "source": [
    "## Convolutional Neural Network with Two Sets of Convolutional and Pooling Layers\n"
   ]
  },
  {
   "cell_type": "markdown",
   "id": "ed6adec1-b389-4d45-a94b-c3f378106a02",
   "metadata": {},
   "source": [
    "Let's redefine our convolutional model so that it has two convolutional and pooling layers instead of just one layer of each.\n"
   ]
  },
  {
   "cell_type": "code",
   "execution_count": 11,
   "id": "1238bc6e-7594-48f2-b239-83fd36c4838d",
   "metadata": {},
   "outputs": [],
   "source": [
    "def convolutional_model():\n",
    "    \n",
    "    # create model\n",
    "    model = Sequential()\n",
    "    model.add(Input(shape=(28, 28, 1)))\n",
    "    model.add(Conv2D(16, (5, 5), activation='relu'))\n",
    "    model.add(MaxPooling2D(pool_size=(2, 2), strides=(2, 2)))\n",
    "    \n",
    "    model.add(Conv2D(8, (2, 2), activation='relu'))\n",
    "    model.add(MaxPooling2D(pool_size=(2, 2), strides=(2, 2)))\n",
    "    \n",
    "    model.add(Flatten())\n",
    "    model.add(Dense(100, activation='relu'))\n",
    "    model.add(Dense(num_classes, activation='softmax'))\n",
    "    \n",
    "    # Compile model\n",
    "    model.compile(optimizer='adam', loss='categorical_crossentropy',  metrics=['accuracy'])\n",
    "    return model"
   ]
  },
  {
   "cell_type": "markdown",
   "id": "ad1e634f-0a4a-475b-95da-b6e322a83c46",
   "metadata": {},
   "source": [
    "Now, let's call the function to create our new convolutional neural network, and then let's train it and evaluate it.\n"
   ]
  },
  {
   "cell_type": "code",
   "execution_count": 12,
   "id": "3c0465aa-295a-49e7-92bb-050edb59e3df",
   "metadata": {},
   "outputs": [
    {
     "name": "stdout",
     "output_type": "stream",
     "text": [
      "Epoch 1/10\n",
      "300/300 - 16s - 54ms/step - accuracy: 0.8770 - loss: 0.4513 - val_accuracy: 0.9595 - val_loss: 0.1333\n",
      "Epoch 2/10\n",
      "300/300 - 15s - 48ms/step - accuracy: 0.9661 - loss: 0.1122 - val_accuracy: 0.9717 - val_loss: 0.0853\n",
      "Epoch 3/10\n",
      "300/300 - 14s - 47ms/step - accuracy: 0.9748 - loss: 0.0843 - val_accuracy: 0.9796 - val_loss: 0.0663\n",
      "Epoch 4/10\n",
      "300/300 - 18s - 60ms/step - accuracy: 0.9790 - loss: 0.0695 - val_accuracy: 0.9802 - val_loss: 0.0609\n",
      "Epoch 5/10\n",
      "300/300 - 20s - 67ms/step - accuracy: 0.9816 - loss: 0.0600 - val_accuracy: 0.9808 - val_loss: 0.0542\n",
      "Epoch 6/10\n",
      "300/300 - 20s - 67ms/step - accuracy: 0.9831 - loss: 0.0543 - val_accuracy: 0.9842 - val_loss: 0.0484\n",
      "Epoch 7/10\n",
      "300/300 - 13s - 45ms/step - accuracy: 0.9859 - loss: 0.0473 - val_accuracy: 0.9846 - val_loss: 0.0437\n",
      "Epoch 8/10\n",
      "300/300 - 11s - 37ms/step - accuracy: 0.9870 - loss: 0.0422 - val_accuracy: 0.9830 - val_loss: 0.0477\n",
      "Epoch 9/10\n",
      "300/300 - 11s - 35ms/step - accuracy: 0.9875 - loss: 0.0393 - val_accuracy: 0.9871 - val_loss: 0.0366\n",
      "Epoch 10/10\n",
      "300/300 - 11s - 36ms/step - accuracy: 0.9892 - loss: 0.0357 - val_accuracy: 0.9858 - val_loss: 0.0402\n",
      "Accuracy: 0.98580002784729 \n",
      " Error: 1.419997215270996\n"
     ]
    }
   ],
   "source": [
    "# build the model\n",
    "model = convolutional_model()\n",
    "\n",
    "# fit the model\n",
    "model.fit(X_train, y_train, validation_data=(X_test, y_test), epochs=10, batch_size=200, verbose=2)\n",
    "\n",
    "# evaluate the model\n",
    "scores = model.evaluate(X_test, y_test, verbose=0)\n",
    "print(\"Accuracy: {} \\n Error: {}\".format(scores[1], 100-scores[1]*100))"
   ]
  },
  {
   "cell_type": "markdown",
   "id": "1461351b-e85e-431a-94f7-7a803ad091f0",
   "metadata": {},
   "source": [
    "<h3>Practice Exercise 1</h3>\n"
   ]
  },
  {
   "cell_type": "markdown",
   "id": "b552fc94-0831-4569-bc0e-c5b9b153b70d",
   "metadata": {},
   "source": [
    "Let's see how batch size affects the time required and accuracy of the model training. \n",
    "For this, you can try to change batch_size to 1024 and check it's effect on accuracy\n"
   ]
  },
  {
   "cell_type": "code",
   "execution_count": 13,
   "id": "f01355d9-0484-4b16-8419-fd6e64640806",
   "metadata": {},
   "outputs": [
    {
     "name": "stdout",
     "output_type": "stream",
     "text": [
      "Epoch 1/10\n",
      "59/59 - 14s - 239ms/step - accuracy: 0.6662 - loss: 1.2886 - val_accuracy: 0.8803 - val_loss: 0.4299\n",
      "Epoch 2/10\n",
      "59/59 - 13s - 223ms/step - accuracy: 0.9053 - loss: 0.3247 - val_accuracy: 0.9329 - val_loss: 0.2292\n",
      "Epoch 3/10\n",
      "59/59 - 13s - 227ms/step - accuracy: 0.9407 - loss: 0.2002 - val_accuracy: 0.9562 - val_loss: 0.1507\n",
      "Epoch 4/10\n",
      "59/59 - 13s - 227ms/step - accuracy: 0.9571 - loss: 0.1461 - val_accuracy: 0.9652 - val_loss: 0.1192\n",
      "Epoch 5/10\n",
      "59/59 - 14s - 230ms/step - accuracy: 0.9656 - loss: 0.1149 - val_accuracy: 0.9712 - val_loss: 0.0975\n",
      "Epoch 6/10\n",
      "59/59 - 15s - 250ms/step - accuracy: 0.9711 - loss: 0.0971 - val_accuracy: 0.9748 - val_loss: 0.0840\n",
      "Epoch 7/10\n",
      "59/59 - 11s - 193ms/step - accuracy: 0.9753 - loss: 0.0837 - val_accuracy: 0.9766 - val_loss: 0.0750\n",
      "Epoch 8/10\n",
      "59/59 - 9s - 159ms/step - accuracy: 0.9776 - loss: 0.0752 - val_accuracy: 0.9776 - val_loss: 0.0705\n",
      "Epoch 9/10\n",
      "59/59 - 10s - 169ms/step - accuracy: 0.9800 - loss: 0.0678 - val_accuracy: 0.9797 - val_loss: 0.0641\n",
      "Epoch 10/10\n",
      "59/59 - 10s - 171ms/step - accuracy: 0.9815 - loss: 0.0627 - val_accuracy: 0.9813 - val_loss: 0.0585\n",
      "Accuracy: 0.9812999963760376 \n",
      " Error: 1.8700003623962402\n"
     ]
    }
   ],
   "source": [
    "# build the model\n",
    "model = convolutional_model()\n",
    "\n",
    "# fit the model\n",
    "model.fit(X_train, y_train, validation_data=(X_test, y_test), epochs=10, batch_size=1024, verbose=2)\n",
    "\n",
    "# evaluate the model\n",
    "scores = model.evaluate(X_test, y_test, verbose=0)\n",
    "print(\"Accuracy: {} \\n Error: {}\".format(scores[1], 100-scores[1]*100))"
   ]
  },
  {
   "cell_type": "markdown",
   "id": "2a03ad9b-825d-47ae-be77-e3bf1885c08e",
   "metadata": {},
   "source": [
    "<h3>Practice Exercise 2</h3>\n"
   ]
  },
  {
   "cell_type": "markdown",
   "id": "5989a3e9-0d9c-4769-a33d-fc22447a82bd",
   "metadata": {},
   "source": [
    "Now, let's see how number of epochs  affect the time required and accuracy of the model training. \n",
    "For this, you can keep the batch_size=1024 and epochs=25 and check it's effect on accuracy\n"
   ]
  },
  {
   "cell_type": "code",
   "execution_count": 14,
   "id": "f9e95cec-0929-4e21-82f2-88b829c59460",
   "metadata": {},
   "outputs": [
    {
     "name": "stdout",
     "output_type": "stream",
     "text": [
      "Epoch 1/25\n",
      "59/59 - 10s - 172ms/step - accuracy: 0.6571 - loss: 1.2450 - val_accuracy: 0.8860 - val_loss: 0.3867\n",
      "Epoch 2/25\n",
      "59/59 - 9s - 152ms/step - accuracy: 0.9122 - loss: 0.2933 - val_accuracy: 0.9414 - val_loss: 0.1960\n",
      "Epoch 3/25\n",
      "59/59 - 9s - 148ms/step - accuracy: 0.9476 - loss: 0.1777 - val_accuracy: 0.9579 - val_loss: 0.1347\n",
      "Epoch 4/25\n",
      "59/59 - 8s - 142ms/step - accuracy: 0.9620 - loss: 0.1293 - val_accuracy: 0.9692 - val_loss: 0.1036\n",
      "Epoch 5/25\n",
      "59/59 - 9s - 152ms/step - accuracy: 0.9692 - loss: 0.1057 - val_accuracy: 0.9727 - val_loss: 0.0915\n",
      "Epoch 6/25\n",
      "59/59 - 10s - 163ms/step - accuracy: 0.9725 - loss: 0.0933 - val_accuracy: 0.9766 - val_loss: 0.0785\n",
      "Epoch 7/25\n",
      "59/59 - 13s - 217ms/step - accuracy: 0.9757 - loss: 0.0817 - val_accuracy: 0.9791 - val_loss: 0.0701\n",
      "Epoch 8/25\n",
      "59/59 - 11s - 184ms/step - accuracy: 0.9779 - loss: 0.0747 - val_accuracy: 0.9805 - val_loss: 0.0633\n",
      "Epoch 9/25\n",
      "59/59 - 10s - 168ms/step - accuracy: 0.9802 - loss: 0.0686 - val_accuracy: 0.9815 - val_loss: 0.0601\n",
      "Epoch 10/25\n",
      "59/59 - 11s - 179ms/step - accuracy: 0.9811 - loss: 0.0646 - val_accuracy: 0.9823 - val_loss: 0.0563\n",
      "Epoch 11/25\n",
      "59/59 - 10s - 172ms/step - accuracy: 0.9824 - loss: 0.0607 - val_accuracy: 0.9839 - val_loss: 0.0526\n",
      "Epoch 12/25\n",
      "59/59 - 9s - 151ms/step - accuracy: 0.9833 - loss: 0.0569 - val_accuracy: 0.9844 - val_loss: 0.0493\n",
      "Epoch 13/25\n",
      "59/59 - 12s - 203ms/step - accuracy: 0.9843 - loss: 0.0534 - val_accuracy: 0.9860 - val_loss: 0.0463\n",
      "Epoch 14/25\n",
      "59/59 - 10s - 165ms/step - accuracy: 0.9849 - loss: 0.0509 - val_accuracy: 0.9858 - val_loss: 0.0471\n",
      "Epoch 15/25\n",
      "59/59 - 10s - 167ms/step - accuracy: 0.9858 - loss: 0.0482 - val_accuracy: 0.9864 - val_loss: 0.0430\n",
      "Epoch 16/25\n",
      "59/59 - 10s - 170ms/step - accuracy: 0.9860 - loss: 0.0471 - val_accuracy: 0.9860 - val_loss: 0.0429\n",
      "Epoch 17/25\n",
      "59/59 - 11s - 182ms/step - accuracy: 0.9870 - loss: 0.0445 - val_accuracy: 0.9871 - val_loss: 0.0421\n",
      "Epoch 18/25\n",
      "59/59 - 10s - 166ms/step - accuracy: 0.9876 - loss: 0.0420 - val_accuracy: 0.9864 - val_loss: 0.0430\n",
      "Epoch 19/25\n",
      "59/59 - 10s - 168ms/step - accuracy: 0.9877 - loss: 0.0417 - val_accuracy: 0.9877 - val_loss: 0.0439\n",
      "Epoch 20/25\n",
      "59/59 - 9s - 153ms/step - accuracy: 0.9885 - loss: 0.0386 - val_accuracy: 0.9889 - val_loss: 0.0388\n",
      "Epoch 21/25\n",
      "59/59 - 9s - 144ms/step - accuracy: 0.9885 - loss: 0.0380 - val_accuracy: 0.9878 - val_loss: 0.0401\n",
      "Epoch 22/25\n",
      "59/59 - 10s - 167ms/step - accuracy: 0.9893 - loss: 0.0364 - val_accuracy: 0.9886 - val_loss: 0.0370\n",
      "Epoch 23/25\n",
      "59/59 - 10s - 171ms/step - accuracy: 0.9898 - loss: 0.0345 - val_accuracy: 0.9873 - val_loss: 0.0385\n",
      "Epoch 24/25\n",
      "59/59 - 9s - 158ms/step - accuracy: 0.9903 - loss: 0.0330 - val_accuracy: 0.9885 - val_loss: 0.0362\n",
      "Epoch 25/25\n",
      "59/59 - 10s - 164ms/step - accuracy: 0.9904 - loss: 0.0324 - val_accuracy: 0.9880 - val_loss: 0.0374\n",
      "Accuracy: 0.9879999756813049 \n",
      " Error: 1.2000024318695068\n"
     ]
    }
   ],
   "source": [
    "# build the model\n",
    "model = convolutional_model()\n",
    "\n",
    "# fit the model\n",
    "model.fit(X_train, y_train, validation_data=(X_test, y_test), epochs=25, batch_size=1024, verbose=2)\n",
    "\n",
    "# evaluate the model\n",
    "scores = model.evaluate(X_test, y_test, verbose=0)\n",
    "print(\"Accuracy: {} \\n Error: {}\".format(scores[1], 100-scores[1]*100))"
   ]
  },
  {
   "cell_type": "markdown",
   "id": "844cc9d3-9e42-433a-9767-c03f0c1eb77d",
   "metadata": {},
   "source": [
    "### Thank you for completing this lab!\n",
    "\n",
    "This notebook was created by [Alex Aklson](https://www.linkedin.com/in/aklson/). I hope you found this lab interesting and educational. Feel free to contact me if you have any questions!\n"
   ]
  },
  {
   "cell_type": "markdown",
   "id": "5e3e2e36-9537-40c4-80bc-24e056e0b3c0",
   "metadata": {},
   "source": [
    "<!--\n",
    "## Change Log\n",
    "\n",
    "|  Date (YYYY-MM-DD) |  Version | Changed By  |  Change Description |\n",
    "|---|---|---|---|\n",
    "| 2024-11-20  | 3.0  | Aman  |  Updated the library versions to current |\n",
    "| 2020-09-21  | 2.0  | Srishti  |  Migrated Lab to Markdown and added to course repo in GitLab |\n",
    "\n",
    "\n",
    "\n",
    "<hr>\n",
    "\n",
    "## <h3 align=\"center\"> © IBM Corporation. All rights reserved. <h3/>\n"
   ]
  },
  {
   "cell_type": "markdown",
   "id": "ab20d78f-6c72-4aad-b35d-e2e770c39d5e",
   "metadata": {},
   "source": [
    "## <h3 align=\"center\"> &#169; IBM Corporation. All rights reserved. <h3/>\n",
    "\n"
   ]
  }
 ],
 "metadata": {
  "kernelspec": {
   "display_name": "Python 3",
   "language": "python",
   "name": "python3"
  },
  "language_info": {
   "codemirror_mode": {
    "name": "ipython",
    "version": 3
   },
   "file_extension": ".py",
   "mimetype": "text/x-python",
   "name": "python",
   "nbconvert_exporter": "python",
   "pygments_lexer": "ipython3",
   "version": "3.12.6"
  },
  "prev_pub_hash": "cf25684b5f40b85f8cce20a89cf822f405779387881f3fd281fbe1317debe407"
 },
 "nbformat": 4,
 "nbformat_minor": 4
}
